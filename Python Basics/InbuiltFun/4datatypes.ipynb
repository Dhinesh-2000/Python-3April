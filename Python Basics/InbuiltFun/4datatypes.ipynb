{
 "cells": [
  {
   "cell_type": "code",
   "execution_count": 6,
   "id": "849a1af5-030a-4994-9bff-e6f9c0b57cd6",
   "metadata": {},
   "outputs": [
    {
     "name": "stdout",
     "output_type": "stream",
     "text": [
      "<class 'int'>\n",
      "<class 'str'>\n",
      "('Rahul', 10, '20', 30)\n",
      "<class 'tuple'>\n"
     ]
    }
   ],
   "source": [
    "#create\n",
    "eid=101\n",
    "ename=\"Rahul\"\n",
    "#name=\"Rahul\",10\n",
    "x=\"Rahul\",10,\"20\",30\n",
    "print(type(eid))\n",
    "print(type(ename))\n",
    "#print(type(name))\n",
    "print(x)\n",
    "print(type(x))"
   ]
  },
  {
   "cell_type": "code",
   "execution_count": 7,
   "id": "34abf844-b9ab-4a96-a414-2e138b2debf3",
   "metadata": {},
   "outputs": [
    {
     "name": "stdout",
     "output_type": "stream",
     "text": [
      "10\n",
      "20\n",
      "30\n"
     ]
    }
   ],
   "source": [
    "#JS\n",
    "#var a = 10,20,30    - Syntax Error\n",
    "#Java\n",
    "#int a = 10,20,30;   - Compile Error\n",
    "\n",
    "#Python - possible\n",
    "a,b,c = 10,20,30    \n",
    "\n",
    "print(a)\n",
    "print(b)\n",
    "print(c)"
   ]
  },
  {
   "cell_type": "code",
   "execution_count": 9,
   "id": "0bf82564-8695-4198-ae6e-0b5d161e7144",
   "metadata": {},
   "outputs": [
    {
     "name": "stdout",
     "output_type": "stream",
     "text": [
      "[101, 102, 103, 104]\n",
      "101\n",
      "102\n",
      "103\n",
      "[401, 102, 103, 104]\n",
      "<class 'list'>\n"
     ]
    }
   ],
   "source": [
    "#What is list and list() function\n",
    "#how many ways we can create list object?\n",
    "#create\n",
    "ids=[101,102,103,104]\n",
    "#read \n",
    "print(ids)\n",
    "#how to read list elements? using indexing\n",
    "print(ids[0])\n",
    "print(ids[1])\n",
    "print(ids[2])\n",
    "\n",
    "#update \n",
    "ids[0]  = 401\n",
    "print(ids)\n",
    "print(type(ids))\n",
    "\n",
    "#delete"
   ]
  },
  {
   "cell_type": "code",
   "execution_count": 10,
   "id": "113fc8a5-efa1-4d84-b353-c609ad7ec650",
   "metadata": {},
   "outputs": [
    {
     "name": "stdout",
     "output_type": "stream",
     "text": [
      "<class 'list'>\n",
      "<class 'tuple'>\n",
      "<class 'set'>\n",
      "<class 'dict'>\n"
     ]
    }
   ],
   "source": [
    "enames=[]\n",
    "name=()\n",
    "ids={101,102,103,104,103,103,102,102}\n",
    "eid={\"id\":\"101\",\"name\":\"Rahul\"}\n",
    "print(type(enames))\n",
    "print(type(name))\n",
    "print(type(ids))\n",
    "print(type(eid))"
   ]
  },
  {
   "cell_type": "code",
   "execution_count": null,
   "id": "569b5ba1-d68f-4a4a-902b-35533bcce1c9",
   "metadata": {},
   "outputs": [],
   "source": []
  }
 ],
 "metadata": {
  "kernelspec": {
   "display_name": "Python 3 (ipykernel)",
   "language": "python",
   "name": "python3"
  },
  "language_info": {
   "codemirror_mode": {
    "name": "ipython",
    "version": 3
   },
   "file_extension": ".py",
   "mimetype": "text/x-python",
   "name": "python",
   "nbconvert_exporter": "python",
   "pygments_lexer": "ipython3",
   "version": "3.12.2"
  }
 },
 "nbformat": 4,
 "nbformat_minor": 5
}
